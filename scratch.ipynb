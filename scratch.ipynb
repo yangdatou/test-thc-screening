{
 "cells": [
  {
   "cell_type": "code",
   "execution_count": 88,
   "metadata": {},
   "outputs": [
    {
     "name": "stdout",
     "output_type": "stream",
     "text": [
      "   0,    1,    3\n",
      "   1,    4,    4\n",
      "   3,    4,   10\n"
     ]
    }
   ],
   "source": [
    "import sys, numpy, scipy\n",
    "\n",
    "x  = numpy.arange(0, 6)\n",
    "xx = numpy.zeros((3, 3))\n",
    "xx[numpy.tril_indices(3)] = x\n",
    "uu = xx + xx.T # - numpy.diag(xx.diagonal()) * 1.5\n",
    "\n",
    "numpy.savetxt(sys.stdout, uu, fmt='% 4d', delimiter=', ')"
   ]
  },
  {
   "cell_type": "code",
   "execution_count": 89,
   "metadata": {},
   "outputs": [
    {
     "name": "stdout",
     "output_type": "stream",
     "text": [
      "168.0\n"
     ]
    }
   ],
   "source": [
    "res = numpy.einsum('ij,ij->', uu, uu)\n",
    "print(res)"
   ]
  },
  {
   "cell_type": "code",
   "execution_count": 90,
   "metadata": {},
   "outputs": [],
   "source": [
    "from pyscf.lib import pack_tril\n",
    "u = pack_tril(uu)\n",
    "ind = numpy.arange(3)\n",
    "u[(ind +1) * (ind + 2)//2-1] /= numpy.sqrt(2)"
   ]
  },
  {
   "cell_type": "code",
   "execution_count": 91,
   "metadata": {},
   "outputs": [
    {
     "name": "stdout",
     "output_type": "stream",
     "text": [
      "168.0\n"
     ]
    }
   ],
   "source": [
    "print(numpy.einsum('i,i->', u, u)*2)"
   ]
  },
  {
   "cell_type": "code",
   "execution_count": null,
   "metadata": {},
   "outputs": [],
   "source": []
  }
 ],
 "metadata": {
  "kernelspec": {
   "display_name": "Python 3",
   "language": "python",
   "name": "python3"
  },
  "language_info": {
   "codemirror_mode": {
    "name": "ipython",
    "version": 3
   },
   "file_extension": ".py",
   "mimetype": "text/x-python",
   "name": "python",
   "nbconvert_exporter": "python",
   "pygments_lexer": "ipython3",
   "version": "3.10.13"
  }
 },
 "nbformat": 4,
 "nbformat_minor": 2
}
